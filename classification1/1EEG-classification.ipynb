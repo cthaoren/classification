{
 "cells": [
  {
   "cell_type": "code",
   "execution_count": null,
   "metadata": {},
   "outputs": [],
   "source": [
    "from sklearn.svm import SVC\n",
    "from sklearn import svm\n",
    "from sklearn.model_selection import train_test_split \n",
    "import matplotlib.pyplot as plt \n",
    "import numpy as np \n",
    "import pandas as pd \n",
    "from time import time \n",
    "import datetime\n",
    "from sklearn.model_selection import StratifiedShuffleSplit \n",
    "from sklearn.model_selection import StratifiedKFold\n",
    "from sklearn.model_selection import GridSearchCV\n",
    "from sklearn.preprocessing import StandardScaler \n",
    "from sklearn.metrics import cohen_kappa_score\n",
    "from sklearn.ensemble import ExtraTreesClassifier\n",
    "from sklearn.feature_selection import SelectFromModel\n",
    "import time"
   ]
  },
  {
   "cell_type": "code",
   "execution_count": null,
   "metadata": {},
   "outputs": [],
   "source": [
    "data1 = pd.read_excel(io = 'F:\\\\feature.xlsx',header=None)\n",
    "data2 = pd.read_excel(io = 'F:\\\\cfeature.xlsx',header=None)"
   ]
  },
  {
   "cell_type": "code",
   "execution_count": null,
   "metadata": {},
   "outputs": [],
   "source": [
    "label1 = pd.read_excel(io = 'F:\\\\label2.xlsx',header=None)\n",
    "label1=label1.values.ravel()   \n",
    "\n",
    "label2 = pd.read_excel(io = 'F:\\\\clabel2.xlsx',header=None)\n",
    "label2=label2.values.ravel()   "
   ]
  },
  {
   "cell_type": "code",
   "execution_count": null,
   "metadata": {},
   "outputs": [],
   "source": [
    "traindata = data1\n",
    "testdata = data2"
   ]
  },
  {
   "cell_type": "code",
   "execution_count": null,
   "metadata": {},
   "outputs": [],
   "source": [
    "data = pd.concat([traindata,testdata], axis=0)"
   ]
  },
  {
   "cell_type": "code",
   "execution_count": null,
   "metadata": {},
   "outputs": [],
   "source": [
    "scaler = StandardScaler().fit(data)\n",
    "data= scaler.transform(data)\n",
    "data = pd.DataFrame(data)"
   ]
  },
  {
   "cell_type": "code",
   "execution_count": null,
   "metadata": {},
   "outputs": [],
   "source": [
    "Xtrain = data.iloc[0:288]\n",
    "Xtest = data.iloc[288:576]\n",
    "\n",
    "Ytrain = label1\n",
    "Ytest = label2"
   ]
  },
  {
   "cell_type": "code",
   "execution_count": null,
   "metadata": {},
   "outputs": [],
   "source": [
    "X = Xtrain\n",
    "y = Ytrain"
   ]
  },
  {
   "cell_type": "code",
   "execution_count": null,
   "metadata": {},
   "outputs": [],
   "source": [
    "print(time.strftime('%Y-%m-%d %H:%M:%S',time.localtime(time.time())))"
   ]
  },
  {
   "cell_type": "code",
   "execution_count": null,
   "metadata": {},
   "outputs": [],
   "source": [
    "import matplotlib.pyplot as plt\n",
    "\n",
    "from sklearn.datasets import make_classification\n",
    "from sklearn.ensemble import ExtraTreesClassifier\n",
    "\n",
    "\n",
    "# Build a forest and compute the feature importances\n",
    "forest = ExtraTreesClassifier(n_estimators=9\n",
    "                              ,random_state=66\n",
    "                             )\n",
    "\n",
    "forest.fit(X, y)\n",
    "importances = forest.feature_importances_\n",
    "std = np.std([tree.feature_importances_ for tree in forest.estimators_],\n",
    "             axis=0)\n",
    "indices = np.argsort(importances)[::-1]\n",
    "\n",
    "# Plot the feature importances of the forest\n",
    "plt.figure()\n",
    "plt.title(\"Feature importances\")\n",
    "plt.bar(range(X.shape[1]), importances[indices],\n",
    "       color=\"r\", yerr=std[indices], align=\"center\")\n",
    "plt.xticks(range(X.shape[1]), indices)\n",
    "plt.xlim([-1, X.shape[1]])\n",
    "plt.show()"
   ]
  },
  {
   "cell_type": "code",
   "execution_count": null,
   "metadata": {},
   "outputs": [],
   "source": [
    "clf = ExtraTreesClassifier(n_estimators=9\n",
    "                          ,random_state=66\n",
    "                          )\n",
    "clf = clf.fit(X, y)"
   ]
  },
  {
   "cell_type": "code",
   "execution_count": null,
   "metadata": {},
   "outputs": [],
   "source": [
    "score1 = []\n",
    "score2 = []\n",
    "rrange = np.arange(20,50) \n",
    "for i in rrange:\n",
    "    model = SelectFromModel(clf\n",
    "                            , prefit=True\n",
    "                            ,threshold=-np.inf\n",
    "                           ,max_features =i)\n",
    "    X_new = model.transform(X)\n",
    "    \n",
    "    gamma_range = np.logspace(-10,1,20) \n",
    "#     coef0_range = np.linspace(0,5,30)\n",
    "#     C_range = np.logspace(-2, 2, 10)\n",
    "    C_range = np.linspace(0.001,30,50) \n",
    "\n",
    "    param_grid = dict(gamma = gamma_range\n",
    "    #                   ,coef0 = coef0_range\n",
    "                      ,C=C_range\n",
    "                     )\n",
    "\n",
    "    cv = StratifiedShuffleSplit(n_splits=10\n",
    "                                , test_size=0.3\n",
    "                                , random_state=123\n",
    "                               ) \n",
    "    grid = GridSearchCV(SVC(kernel = \"rbf\",cache_size=8000), \n",
    "    param_grid=param_grid, cv=cv\n",
    "                       ,n_jobs=3) \n",
    "    grid.fit(X_new, y)\n",
    "\n",
    "    print(\"The best parameters are %s with a score of %0.5f\" % (grid.best_params_, \n",
    "    grid.best_score_)) \n",
    "    # print(datetime.datetime.fromtimestamp(time()-time0).strftime(\"%M:%S:%f\"))\n",
    "\n",
    "    score1.append(grid.best_score_)\n",
    "    score2.append(grid.best_params_)\n",
    "    \n",
    "print(\" acc          {}\\n\".format(max(score1))\n",
    "     ,\"r              {}\\n\".format(rrange[score1.index(max(score1))])\n",
    "    ,\"Candr             {}\\n\".format(score2[score1.index(max(score1))])\n",
    "     )\n",
    "plt.plot(rrange,score1) \n",
    "plt.show()    "
   ]
  },
  {
   "cell_type": "code",
   "execution_count": null,
   "metadata": {},
   "outputs": [],
   "source": [
    "ab = indices[0:rrange[score1.index(max(score1))]]\n",
    "canshu = score2[score1.index(max(score1))]\n",
    "XtrainS = Xtrain.iloc[:,ab]\n",
    "XtestS = Xtest.iloc[:,ab]\n",
    "Ytrain = label1\n",
    "Ytest = label2"
   ]
  },
  {
   "cell_type": "code",
   "execution_count": null,
   "metadata": {},
   "outputs": [],
   "source": [
    "clf = SVC(kernel=\"rbf\",C = canshu['C'],gamma = canshu['gamma'],cache_size=7000).fit(XtrainS,Ytrain)\n",
    "clf.score(XtestS,Ytest)"
   ]
  },
  {
   "cell_type": "code",
   "execution_count": null,
   "metadata": {},
   "outputs": [],
   "source": []
  },
  {
   "cell_type": "code",
   "execution_count": null,
   "metadata": {},
   "outputs": [],
   "source": []
  },
  {
   "cell_type": "code",
   "execution_count": null,
   "metadata": {},
   "outputs": [],
   "source": []
  },
  {
   "cell_type": "code",
   "execution_count": null,
   "metadata": {},
   "outputs": [],
   "source": []
  },
  {
   "cell_type": "code",
   "execution_count": null,
   "metadata": {},
   "outputs": [],
   "source": []
  },
  {
   "cell_type": "code",
   "execution_count": null,
   "metadata": {},
   "outputs": [],
   "source": []
  },
  {
   "cell_type": "code",
   "execution_count": null,
   "metadata": {},
   "outputs": [],
   "source": []
  },
  {
   "cell_type": "code",
   "execution_count": null,
   "metadata": {},
   "outputs": [],
   "source": []
  },
  {
   "cell_type": "code",
   "execution_count": null,
   "metadata": {},
   "outputs": [],
   "source": []
  },
  {
   "cell_type": "code",
   "execution_count": null,
   "metadata": {},
   "outputs": [],
   "source": []
  },
  {
   "cell_type": "code",
   "execution_count": null,
   "metadata": {},
   "outputs": [],
   "source": []
  }
 ],
 "metadata": {
  "kernelspec": {
   "display_name": "Python 3",
   "language": "python",
   "name": "python3"
  },
  "language_info": {
   "codemirror_mode": {
    "name": "ipython",
    "version": 3
   },
   "file_extension": ".py",
   "mimetype": "text/x-python",
   "name": "python",
   "nbconvert_exporter": "python",
   "pygments_lexer": "ipython3",
   "version": "3.7.1"
  }
 },
 "nbformat": 4,
 "nbformat_minor": 2
}
